{
 "cells": [
  {
   "cell_type": "code",
   "execution_count": 1,
   "id": "27488d69",
   "metadata": {},
   "outputs": [],
   "source": [
    "maze5 = [\n",
    "    ['A', 0,  1,  0,  0,  0, 1, 0, 0, 1, 0, 0],\n",
    "    [0,   0,  1,  0,  1,  0, 1, 0, 1, 0, 0, 0],\n",
    "    [1,   0,  0,  0,  1,  0, 0, 0, 1, 1, 1, 0],\n",
    "    [0,   1,  1,  0,  0,  1, 1, 0, 0, 0, 1, 0],\n",
    "    [0,   0,  0,  0,  1,  0, 1, 1, 1, 0, 0, 0],\n",
    "    [1,   1,  1,  0,  1,  0, 0, 0, 1, 1, 1, 0],\n",
    "    [0,   0,  1,  0,  0,  0, 1, 0, 0, 0, 1, 0],\n",
    "    [0,   1,  0,  1,  1,  0, 1, 1, 1, 0, 1, 0],\n",
    "    [0,   0,  0,  0,  0,  0, 0, 0, 1, 0, 0, 0],\n",
    "    [1,   1,  1,  1,  1,  1, 0, 1, 0, 1, 1, 0],\n",
    "    [0,   0,  0,  0,  0,  0, 0, 1, 0, 0, 0, 0],\n",
    "    [0,   1,  1,  1,  1,  1, 1, 1, 1, 1, 1,'B'],\n",
    "]"
   ]
  },
  {
   "cell_type": "code",
   "execution_count": 2,
   "id": "5d4463e7",
   "metadata": {},
   "outputs": [],
   "source": [
    "import heapq\n",
    "\n",
    "# Define Manhattan distance heuristic\n",
    "def manhattan(a, b):\n",
    "    return abs(a[0] - b[0]) + abs(a[1] - b[1])"
   ]
  },
  {
   "cell_type": "code",
   "execution_count": null,
   "id": "f0e0c684",
   "metadata": {},
   "outputs": [],
   "source": [
    "\n",
    "# Get neighbors in 4 directions\n",
    "def get_neighbors(pos, maze):\n",
    "    neighbors = []\n",
    "    directions = [(-1,0), (1,0), (0,-1), (0,1)]  \n",
    "    rows, cols = len(maze), len(maze[0])\n",
    "    for dx, dy in directions:\n",
    "        nx, ny = pos[0] + dx, pos[1] + dy\n",
    "        if 0 <= nx < rows and 0 <= ny < cols and maze[nx][ny] != 1:\n",
    "            neighbors.append((nx, ny))\n",
    "    return neighbors"
   ]
  },
  {
   "cell_type": "code",
   "execution_count": 4,
   "id": "d2946e8b",
   "metadata": {},
   "outputs": [],
   "source": [
    "\n",
    "def processed_maze(maze):\n",
    "\n",
    "    # Convert maze to numeric values for processing\n",
    "    processed_maze = []\n",
    "    for row in maze:\n",
    "        new_row = []\n",
    "        for cell in row:\n",
    "            if cell == 'A':\n",
    "                start = (maze.index(row), row.index(cell))\n",
    "                new_row.append(0)\n",
    "            elif cell == 'B':\n",
    "                goal = (maze.index(row), row.index(cell))\n",
    "                new_row.append(0)\n",
    "            else:\n",
    "                new_row.append(cell)\n",
    "        processed_maze.append(new_row)\n",
    "    return processed_maze, start, goal"
   ]
  },
  {
   "cell_type": "code",
   "execution_count": 5,
   "id": "ba84429a",
   "metadata": {},
   "outputs": [],
   "source": [
    "# Greedy Best-First Search\n",
    "\n",
    "def greedy_bfs(maze):\n",
    "\n",
    "    proc_maze, start, goal = processed_maze(maze)\n",
    "\n",
    "    visited = set()\n",
    "    came_from = {}\n",
    "\n",
    "    heap = []\n",
    "    heapq.heappush(heap, (manhattan(start, goal), start))\n",
    "\n",
    "    while heap:\n",
    "        _, current = heapq.heappop(heap)\n",
    "\n",
    "        if current == goal:\n",
    "            break\n",
    "\n",
    "        if current in visited:\n",
    "            continue\n",
    "        visited.add(current)\n",
    "\n",
    "        for neighbor in get_neighbors(current, maze):\n",
    "            if neighbor not in visited:\n",
    "                heapq.heappush(heap, (manhattan(neighbor, goal), neighbor))\n",
    "                if neighbor not in came_from:\n",
    "                    came_from[neighbor] = current\n",
    "\n",
    "    # Reconstruct path\n",
    "    path = []\n",
    "    curr = goal\n",
    "    while curr != start:\n",
    "        path.append(curr)\n",
    "        curr = came_from.get(curr)\n",
    "        if curr is None:\n",
    "            print(\"No path found.\")\n",
    "            return []\n",
    "    path.append(start)\n",
    "    path.reverse()\n",
    "    return path"
   ]
  },
  {
   "cell_type": "code",
   "execution_count": 6,
   "id": "10b18b9e",
   "metadata": {},
   "outputs": [
    {
     "name": "stdout",
     "output_type": "stream",
     "text": [
      "Path from A to B:\n",
      "[(0, 0), (0, 1), (1, 1), (2, 1), (2, 2), (2, 3), (3, 3), (4, 3), (5, 3), (6, 3), (6, 4), (6, 5), (5, 5), (5, 6), (5, 7), (6, 7), (6, 8), (6, 9), (7, 9), (8, 9), (8, 10), (8, 11), (9, 11), (10, 11), (11, 11)]\n"
     ]
    }
   ],
   "source": [
    "\n",
    "path = greedy_bfs(maze5)\n",
    "\n",
    "# Print path\n",
    "print(\"Path from A to B:\")\n",
    "print(path)"
   ]
  },
  {
   "cell_type": "code",
   "execution_count": 7,
   "id": "c0e09e45",
   "metadata": {},
   "outputs": [
    {
     "name": "stdout",
     "output_type": "stream",
     "text": [
      "A * 1 0 0 0 1 0 0 1 0 0\n",
      "0 * 1 0 1 0 1 0 1 0 0 0\n",
      "1 * * * 1 0 0 0 1 1 1 0\n",
      "0 1 1 * 0 1 1 0 0 0 1 0\n",
      "0 0 0 * 1 0 1 1 1 0 0 0\n",
      "1 1 1 * 1 * * * 1 1 1 0\n",
      "0 0 1 * * * 1 * * * 1 0\n",
      "0 1 0 1 1 0 1 1 1 * 1 0\n",
      "0 0 0 0 0 0 0 0 1 * * *\n",
      "1 1 1 1 1 1 0 1 0 1 1 *\n",
      "0 0 0 0 0 0 0 1 0 0 0 *\n",
      "0 1 1 1 1 1 1 1 1 1 1 B\n"
     ]
    }
   ],
   "source": [
    "\n",
    "def visualize_path(path, maze):\n",
    "    # Find start and goal by scanning the maze (self-contained)\n",
    "    start = goal = None\n",
    "    for i, row in enumerate(maze):\n",
    "        for j, cell in enumerate(row):\n",
    "            if cell == 'A':\n",
    "                start = (i, j)\n",
    "            elif cell == 'B':\n",
    "                goal = (i, j)\n",
    "    if start is None or goal is None:\n",
    "        raise ValueError('Start or goal not found in maze')\n",
    "    for r, c in path:\n",
    "        if (r, c) != start and (r, c) != goal:\n",
    "            maze[r][c] = '*'\n",
    "\n",
    "    for row in maze:\n",
    "        print(' '.join(str(cell) for cell in row))\n",
    "\n",
    "# Visualize path for maze5\n",
    "visualize_path(path, maze5)\n"
   ]
  },
  {
   "cell_type": "code",
   "execution_count": 8,
   "id": "371d7554",
   "metadata": {},
   "outputs": [
    {
     "data": {
      "text/plain": [
       "[['A', '*', 1, 0, 0, 0, 1, 0, 0, 1, 0, 0],\n",
       " [0, '*', 1, 0, 1, 0, 1, 0, 1, 0, 0, 0],\n",
       " [1, '*', '*', '*', 1, 0, 0, 0, 1, 1, 1, 0],\n",
       " [0, 1, 1, '*', 0, 1, 1, 0, 0, 0, 1, 0],\n",
       " [0, 0, 0, '*', 1, 0, 1, 1, 1, 0, 0, 0],\n",
       " [1, 1, 1, '*', 1, '*', '*', '*', 1, 1, 1, 0],\n",
       " [0, 0, 1, '*', '*', '*', 1, '*', '*', '*', 1, 0],\n",
       " [0, 1, 0, 1, 1, 0, 1, 1, 1, '*', 1, 0],\n",
       " [0, 0, 0, 0, 0, 0, 0, 0, 1, '*', '*', '*'],\n",
       " [1, 1, 1, 1, 1, 1, 0, 1, 0, 1, 1, '*'],\n",
       " [0, 0, 0, 0, 0, 0, 0, 1, 0, 0, 0, '*'],\n",
       " [0, 1, 1, 1, 1, 1, 1, 1, 1, 1, 1, 'B']]"
      ]
     },
     "execution_count": 8,
     "metadata": {},
     "output_type": "execute_result"
    }
   ],
   "source": [
    "\n",
    "maze5"
   ]
  },
  {
   "cell_type": "code",
   "execution_count": 9,
   "id": "8fca9c96",
   "metadata": {},
   "outputs": [
    {
     "name": "stdout",
     "output_type": "stream",
     "text": [
      "A * 1 0 0 0 1 0 0 1 0 0\n",
      "0 * 1 0 1 0 1 0 1 0 0 0\n",
      "1 * * * 1 0 0 0 1 1 1 0\n",
      "0 1 1 * 0 1 1 0 0 0 1 0\n",
      "0 0 0 * 1 0 1 1 1 0 0 0\n",
      "1 1 1 * 1 * * * 1 1 1 0\n",
      "0 0 1 * * * 1 * * * 1 0\n",
      "0 1 0 1 1 0 1 1 1 * 1 0\n",
      "0 0 0 0 0 0 0 0 1 * * *\n",
      "1 1 1 1 1 1 0 1 0 1 1 *\n",
      "0 0 0 0 0 0 0 1 0 0 0 *\n",
      "0 1 1 1 1 1 1 1 1 1 1 B\n"
     ]
    }
   ],
   "source": [
    "visualize_path(path, maze5)"
   ]
  },
  {
   "cell_type": "code",
   "execution_count": 10,
   "id": "9452b648",
   "metadata": {},
   "outputs": [],
   "source": [
    "\n",
    "def manhattan(p1, p2):\n",
    "    return abs(p1[0] - p2[0]) + abs(p1[1] - p2[1])\n",
    "\n",
    "# Find start (A) and goal (B)\n",
    "def find_positions(maze):\n",
    "    start = goal = None\n",
    "    for i in range(len(maze)):\n",
    "        for j in range(len(maze[0])):\n",
    "            if maze[i][j] == 'A':\n",
    "                start = (i, j)\n",
    "            elif maze[i][j] == 'B':\n",
    "                goal = (i, j)\n",
    "    return start, goal\n",
    "\n",
    "def visualize_manhattan(maze):\n",
    "    start, goal = find_positions(maze)\n",
    "    rows, cols = len(maze), len(maze[0])\n",
    "\n",
    "    dist_matrix = []\n",
    "    for i in range(rows):\n",
    "        row = []\n",
    "        for j in range(cols):\n",
    "            if maze[i][j] == 1:   # Wall\n",
    "                row.append(\"█\")\n",
    "            elif maze[i][j] == 'A':\n",
    "                row.append('A')\n",
    "            elif maze[i][j] == 'B':\n",
    "                row.append('B')\n",
    "            else:\n",
    "                row.append(manhattan((i, j), goal))\n",
    "        dist_matrix.append(row)\n",
    "\n",
    "    return dist_matrix"
   ]
  },
  {
   "cell_type": "code",
   "execution_count": 11,
   "id": "0abbd073",
   "metadata": {},
   "outputs": [
    {
     "data": {
      "text/plain": [
       "[['A', 21, '█', 19, 18, 17, '█', 15, 14, '█', 12, 11],\n",
       " [21, 20, '█', 18, '█', 16, '█', 14, '█', 12, 11, 10],\n",
       " ['█', 19, 18, 17, '█', 15, 14, 13, '█', '█', '█', 9],\n",
       " [19, '█', '█', 16, 15, '█', '█', 12, 11, 10, '█', 8],\n",
       " [18, 17, 16, 15, '█', 13, '█', '█', '█', 9, 8, 7],\n",
       " ['█', '█', '█', 14, '█', 12, 11, 10, '█', '█', '█', 6],\n",
       " [16, 15, '█', 13, 12, 11, '█', 9, 8, 7, '█', 5],\n",
       " [15, '█', 13, '█', '█', 10, '█', '█', '█', 6, '█', 4],\n",
       " [14, 13, 12, 11, 10, 9, 8, 7, '█', 5, 4, 3],\n",
       " ['█', '█', '█', '█', '█', '█', 7, '█', 5, '█', '█', 2],\n",
       " [12, 11, 10, 9, 8, 7, 6, '█', 4, 3, 2, 1],\n",
       " [11, '█', '█', '█', '█', '█', '█', '█', '█', '█', '█', 'B']]"
      ]
     },
     "execution_count": 11,
     "metadata": {},
     "output_type": "execute_result"
    }
   ],
   "source": [
    "\n",
    "visualize_manhattan(maze5)"
   ]
  },
  {
   "cell_type": "code",
   "execution_count": 12,
   "id": "7edeb853",
   "metadata": {},
   "outputs": [],
   "source": [
    "\n",
    "# Pretty print function\n",
    "def print_matrix(matrix):\n",
    "    for row in matrix:\n",
    "        row_str = \"\"\n",
    "        for val in row:\n",
    "            if val == \"█\":\n",
    "                row_str += \" █ \"   # Wall\n",
    "            elif val == 'A' or val == 'B':\n",
    "                row_str += f\" {val} \"\n",
    "            else:\n",
    "                row_str += f\"{val:2d} \"  # Align numbers\n",
    "        print(row_str)\n",
    "    print()  # Extra space after the grid"
   ]
  },
  {
   "cell_type": "code",
   "execution_count": 13,
   "id": "e6e6bc01",
   "metadata": {},
   "outputs": [
    {
     "name": "stdout",
     "output_type": "stream",
     "text": [
      " A 21  █ 19 18 17  █ 15 14  █ 12 11 \n",
      "21 20  █ 18  █ 16  █ 14  █ 12 11 10 \n",
      " █ 19 18 17  █ 15 14 13  █  █  █  9 \n",
      "19  █  █ 16 15  █  █ 12 11 10  █  8 \n",
      "18 17 16 15  █ 13  █  █  █  9  8  7 \n",
      " █  █  █ 14  █ 12 11 10  █  █  █  6 \n",
      "16 15  █ 13 12 11  █  9  8  7  █  5 \n",
      "15  █ 13  █  █ 10  █  █  █  6  █  4 \n",
      "14 13 12 11 10  9  8  7  █  5  4  3 \n",
      " █  █  █  █  █  █  7  █  5  █  █  2 \n",
      "12 11 10  9  8  7  6  █  4  3  2  1 \n",
      "11  █  █  █  █  █  █  █  █  █  █  B \n",
      "\n"
     ]
    }
   ],
   "source": [
    "print_matrix(visualize_manhattan(maze5))"
   ]
  },
  {
   "cell_type": "code",
   "execution_count": 14,
   "id": "afaa2be7",
   "metadata": {},
   "outputs": [],
   "source": [
    "\n",
    "maze5 = [\n",
    "    ['A', 0,  1,  0,  0,  0, 1, 0, 0, 1, 0, 0],\n",
    "    [0,   0,  1,  0,  1,  0, 1, 0, 1, 0, 0, 0],\n",
    "    [1,   0,  0,  0,  1,  0, 0, 0, 1, 1, 1, 0],\n",
    "    [0,   1,  1,  0,  0,  1, 1, 0, 0, 0, 1, 0],\n",
    "    [0,   0,  0,  0,  1,  0, 1, 1, 1, 0, 0, 0],\n",
    "    [1,   1,  1,  0,  1,  0, 0, 0, 1, 1, 1, 0],\n",
    "    [0,   0,  1,  0,  0,  0, 1, 0, 0, 0, 1, 0],\n",
    "    [0,   1,  0,  1,  1,  0, 1, 1, 1, 0, 1, 0],\n",
    "    [0,   0,  0,  0,  0,  0, 0, 0, 1, 0, 0, 0],\n",
    "    [1,   1,  1,  1,  1,  1, 0, 1, 0, 1, 1, 0],\n",
    "    [0,   0,  0,  0,  0,  0, 0, 1, 0, 0, 0, 0],\n",
    "    [0,   1,  1,  1,  1,  1, 1, 1, 1, 1, 1,'B'],\n",
    "]\n",
    "  "
   ]
  },
  {
   "cell_type": "code",
   "execution_count": 15,
   "id": "b2b2461f",
   "metadata": {},
   "outputs": [],
   "source": [
    "\n",
    "maze4 = [\n",
    "    ['A', 0,  1,  0,  0,  0, 1, 0, 0, 0],\n",
    "    [0,   0,  1,  0,  1,  0, 1, 0, 1, 0],\n",
    "    [1,   0,  0,  0,  1,  0, 0, 0, 1, 0],\n",
    "    [0,   1,  1,  0,  0,  1, 1, 0, 0, 0],\n",
    "    [0,   0,  0,  0,  1,  0, 1, 1, 1, 0],\n",
    "    [1,   1,  1,  0,  1,  0, 0, 0, 1, 0],\n",
    "    [0,   0,  1,  0,  0,  0, 1, 0, 0, 0],\n",
    "    [0,   1,  0,  1,  1,  0, 1, 1, 1, 0],\n",
    "    [0,   0,  0,  0,  0,  0, 0, 0, 1, 0],\n",
    "    [1,   1,  1,  1,  1,  1, 0, 1, 0,'B'],\n",
    "]"
   ]
  },
  {
   "cell_type": "code",
   "execution_count": 16,
   "id": "b93b1f8f",
   "metadata": {},
   "outputs": [],
   "source": [
    "\n",
    "maze3 = [\n",
    "    ['A', 0,  1,  0, 0, 0, 0, 0],\n",
    "    [0,   0,  1,  0, 1, 1, 1, 0],\n",
    "    [0,   1,  1,  0, 0, 0, 1, 0],\n",
    "    [0,   0,  0,  0, 1, 0, 1, 0],\n",
    "    [1,   1,  1,  0, 1, 0, 0, 0],\n",
    "    [0,   0,  0,  0, 0, 1, 1, 0],\n",
    "    [0,   1,  1,  1, 0, 0, 0, 0],\n",
    "    [0,   0,  0,  0, 0, 1, 1,'B'],\n",
    "]"
   ]
  },
  {
   "cell_type": "code",
   "execution_count": 17,
   "id": "59673dd0",
   "metadata": {},
   "outputs": [],
   "source": [
    "\n",
    "maze2 = [\n",
    "    ['A', 0,   1,  0, 0, 0],\n",
    "    [1,   0,   1,  0, 1, 0],\n",
    "    [0,   0,   0,  0, 1, 0],\n",
    "    [0,   1,   1,  1, 1, 0],\n",
    "    [0,   0,   0,  0, 0, 0],\n",
    "    [0,   1,   1,  1, 1,'B'],\n",
    "]"
   ]
  },
  {
   "cell_type": "code",
   "execution_count": 18,
   "id": "2a58b4f0",
   "metadata": {},
   "outputs": [],
   "source": [
    "\n",
    "maze1 = [\n",
    "    ['A', 0, 0, 0, 'B'],\n",
    "    [1,   1, 1, 1,  0],\n",
    "    [0,   0, 0, 0,  0],\n",
    "    [0,   1, 1, 1,  0],\n",
    "    [0,   0, 0, 0,  0],\n",
    "]\n",
    "     "
   ]
  }
 ],
 "metadata": {
  "kernelspec": {
   "display_name": "Python 3",
   "language": "python",
   "name": "python3"
  },
  "language_info": {
   "codemirror_mode": {
    "name": "ipython",
    "version": 3
   },
   "file_extension": ".py",
   "mimetype": "text/x-python",
   "name": "python",
   "nbconvert_exporter": "python",
   "pygments_lexer": "ipython3",
   "version": "3.13.0"
  }
 },
 "nbformat": 4,
 "nbformat_minor": 5
}
