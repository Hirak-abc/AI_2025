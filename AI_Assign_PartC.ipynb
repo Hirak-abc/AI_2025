{
 "cells": [
  {
   "cell_type": "markdown",
   "id": "0e2b1dbb",
   "metadata": {},
   "source": [
    "\n",
    "# Part C – Programming Task: A* on a Maze\n",
    "\n",
    "This notebook implements A* search on a grid maze with:\n",
    "- `1` = wall, `0` = path, `A` = start, `B` = goal  \n",
    "- Manhattan distance for heuristic.\n",
    "- Visualization of the path.\n",
    "- Two heuristic variants:\n",
    "  1. `1.5 × Manhattan` (check admissibility)\n",
    "  2. A custom heuristic that violates consistency for one edge.\n"
   ]
  },
  {
   "cell_type": "code",
   "execution_count": 1,
   "id": "0a99515e",
   "metadata": {},
   "outputs": [
    {
     "name": "stdout",
     "output_type": "stream",
     "text": [
      "Start: (2, 0) Goal: (4, 5)\n"
     ]
    }
   ],
   "source": [
    "from collections import deque\n",
    "import heapq\n",
    "import math\n",
    "import matplotlib.pyplot as plt\n",
    "import numpy as np\n",
    "from matplotlib.colors import ListedColormap\n",
    "\n",
    "def locate_char(grid, ch):\n",
    "    for i, row in enumerate(grid):\n",
    "        for j, val in enumerate(row):\n",
    "            if val == ch:\n",
    "                return (i, j)\n",
    "    return None\n",
    "\n",
    "def L1_dist(a, b):\n",
    "    return abs(a[0]-b[0]) + abs(a[1]-b[1])\n",
    "\n",
    "def get_neighbors(grid, r, c):\n",
    "    for dr, dc in [(-1,0),(1,0),(0,-1),(0,1)]:\n",
    "        nr, nc = r+dr, c+dc\n",
    "        if 0 <= nr < len(grid) and 0 <= nc < len(grid[0]) and grid[nr][nc] != 1:\n",
    "            yield nr, nc\n",
    "\n",
    "def search_astar(grid, heuristic):\n",
    "    s_pos = locate_char(grid, 'A')\n",
    "    g_pos = locate_char(grid, 'B')\n",
    "    if s_pos is None or g_pos is None:\n",
    "        raise ValueError(\"Start 'A' or Goal 'B' not found.\")\n",
    "    g_cost = {s_pos: 0}\n",
    "    parent = {s_pos: None}\n",
    "    open_heap = [(heuristic(s_pos), 0, s_pos)]  \n",
    "    tie = 0\n",
    "    closed = set()\n",
    "    while open_heap:\n",
    "        f, _, cur = heapq.heappop(open_heap)\n",
    "        if cur in closed:\n",
    "            continue\n",
    "        if cur == g_pos:\n",
    "            \n",
    "\n",
    "            path = []\n",
    "            node = cur\n",
    "            while node is not None:\n",
    "                path.append(node)\n",
    "                node = parent[node]\n",
    "            path.reverse()\n",
    "            return path, g_cost[cur]\n",
    "        closed.add(cur)\n",
    "        for nb in get_neighbors(grid, *cur):\n",
    "            tentative = g_cost[cur] + 1  # unit cost per step\n",
    "            if nb not in g_cost or tentative < g_cost[nb]:\n",
    "                g_cost[nb] = tentative\n",
    "                parent[nb] = cur\n",
    "                tie += 1\n",
    "                heapq.heappush(open_heap, (tentative + heuristic(nb), tie, nb))\n",
    "    return None, math.inf\n",
    "\n",
    "\n",
    "def ucs_cost(grid):\n",
    "    s_pos = locate_char(grid, 'A')\n",
    "    g_pos = locate_char(grid, 'B')\n",
    "    if s_pos is None or g_pos is None:\n",
    "        raise ValueError(\"Start 'A' or Goal 'B' not found.\")\n",
    "    pq = [(0, s_pos)]\n",
    "    dist = {s_pos: 0}\n",
    "    while pq:\n",
    "        d, u = heapq.heappop(pq)\n",
    "        if u == g_pos:\n",
    "            return d\n",
    "        for v in get_neighbors(grid, *u):\n",
    "            nd = d + 1\n",
    "            if v not in dist or nd < dist[v]:\n",
    "                dist[v] = nd\n",
    "                heapq.heappush(pq, (nd, v))\n",
    "    return math.inf\n",
    "\n",
    "\n",
    "def show_maze(grid, path=None, title=\"Maze\"):\n",
    "    cmap = ListedColormap(['white', 'blue', 'green', 'red'])\n",
    "    arr = []\n",
    "    for r in range(len(grid)):\n",
    "        row = []\n",
    "        for c in range(len(grid[0])):\n",
    "            if grid[r][c] == 1:\n",
    "                row.append(0)\n",
    "            elif grid[r][c] == 'A':\n",
    "                row.append(2)\n",
    "            elif grid[r][c] == 'B':\n",
    "                row.append(3)\n",
    "            else:\n",
    "                row.append(1)\n",
    "        arr.append(row)\n",
    "    arr = np.array(arr)\n",
    "\n",
    "    plt.figure(figsize=(5,5))\n",
    "    plt.imshow(arr, cmap=cmap, interpolation='nearest', vmin=0, vmax=3)\n",
    "    if path:\n",
    "        ys = [p[1] for p in path]\n",
    "        xs = [p[0] for p in path]\n",
    "        plt.plot(ys, xs, color='red', linewidth=2)\n",
    "    plt.title(title)\n",
    "    plt.gca().invert_yaxis()\n",
    "    plt.show()\n",
    "\n",
    "# Map\n",
    "grid_map = [\n",
    "    [0, 0, 0, 0, 0, 0],\n",
    "    [1, 1, 0, 1, 1, 0],\n",
    "    ['A', 0, 0, 0, 1, 0],\n",
    "    [1, 1, 1, 0, 1, 0],\n",
    "    [0, 0, 0, 0, 0, 'B'],\n",
    "]\n",
    "\n",
    "s_pos = locate_char(grid_map, 'A')\n",
    "g_pos = locate_char(grid_map, 'B')\n",
    "print(\"Start:\", s_pos, \"Goal:\", g_pos)\n"
   ]
  },
  {
   "cell_type": "code",
   "execution_count": 2,
   "id": "f03013e5",
   "metadata": {},
   "outputs": [
    {
     "name": "stdout",
     "output_type": "stream",
     "text": [
      "Baseline L1 (Manhattan)\n",
      "Path: [(2, 0), (2, 1), (2, 2), (2, 3), (3, 3), (4, 3), (4, 4), (4, 5)]\n",
      "Cost: 7\n",
      "Optimal Cost: 7 | Optimal?:  True\n"
     ]
    },
    {
     "data": {
      "image/png": "[encoded data removed]",
      "text/plain": [
       "<Figure size 500x500 with 1 Axes>"
      ]
     },
     "metadata": {},
     "output_type": "display_data"
    }
   ],
   "source": [
    "# Case 0: Baseline L1 heuristic\n",
    "g_pos = locate_char(grid_map, 'B')\n",
    "h0 = lambda n: L1_dist(n, g_pos)\n",
    "\n",
    "path_a, cost_a = search_astar(grid_map, h0)\n",
    "opt_cost = ucs_cost(grid_map)\n",
    "print(\"Baseline L1 (Manhattan)\")\n",
    "print(\"Path:\", path_a)\n",
    "print(\"Cost:\", cost_a)\n",
    "print(\"Optimal Cost:\", opt_cost, \"| Optimal?: \", cost_a == opt_cost)\n",
    "show_maze(grid_map, path_a, title=\"Baseline: Manhattan\")\n"
   ]
  },
  {
   "cell_type": "code",
   "execution_count": 3,
   "id": "29ed4677",
   "metadata": {},
   "outputs": [
    {
     "name": "stdout",
     "output_type": "stream",
     "text": [
      "1.5 × Manhattan\n",
      "Path: [(2, 0), (2, 1), (2, 2), (2, 3), (3, 3), (4, 3), (4, 4), (4, 5)]\n",
      "Cost: 7\n",
      "Optimal Cost: 7 | Optimal? True\n"
     ]
    },
    {
     "data": {
      "image/png": "[encoded data removed]",
      "text/plain": [
       "<Figure size 500x500 with 1 Axes>"
      ]
     },
     "metadata": {},
     "output_type": "display_data"
    }
   ],
   "source": [
    "# Case 1: 1.5 × L1\n",
    "h1 = lambda n: 1.5 * L1_dist(n, locate_char(grid_map, 'B'))\n",
    "\n",
    "path_b, cost_b = search_astar(grid_map, h1)\n",
    "opt_cost = ucs_cost(grid_map)\n",
    "print(\"1.5 × Manhattan\")\n",
    "print(\"Path:\", path_b)\n",
    "print(\"Cost:\", cost_b)\n",
    "print(\"Optimal Cost:\", opt_cost, \"| Optimal?\", cost_b == opt_cost)\n",
    "show_maze(grid_map, path_b, title=\"Heuristic = 1.5 × Manhattan\")\n"
   ]
  },
  {
   "cell_type": "code",
   "execution_count": 4,
   "id": "2a85e385",
   "metadata": {},
   "outputs": [
    {
     "name": "stdout",
     "output_type": "stream",
     "text": [
      "Check violation at u->v: (2, 2) -> (2, 3)\n",
      "h(u) = 6 ; 1 + h(v) = 5 ; Violates? True\n",
      "Custom inconsistent heuristic\n",
      "Path: [(2, 0), (2, 1), (2, 2), (2, 3), (3, 3), (4, 3), (4, 4), (4, 5)]\n",
      "Cost: 7\n",
      "Optimal Cost: 7 | Optimal? True\n"
     ]
    },
    {
     "data": {
      "image/png": "[encoded data removed]",
      "text/plain": [
       "<Figure size 500x500 with 1 Axes>"
      ]
     },
     "metadata": {},
     "output_type": "display_data"
    }
   ],
   "source": [
    "# Case 2: Introduce an explicit consistency violation for one edge.\n",
    "# We'll create a heuristic that equals L1 except for one pair (u->v)\n",
    "# where h(u) > 1 + h(v).\n",
    "g_pos = locate_char(grid_map, 'B')\n",
    "base_map = { }\n",
    "for r in range(len(grid_map)):\n",
    "    for c in range(len(grid_map[0])):\n",
    "        if grid_map[r][c] != 1:\n",
    "            base_map[(r,c)] = L1_dist((r,c), g_pos)\n",
    "\n",
    "\n",
    "cell_u = (2,2)   \n",
    "cell_v = (2,3)   \n",
    "#Ensure they are neighbours\n",
    "assert cell_v in list(get_neighbors(grid_map, *cell_u))\n",
    "\n",
    "\n",
    "hmap = base_map.copy()\n",
    "# Force violation: h(u) > 1 + h(v)\n",
    "hmap[cell_v] = base_map[cell_v]\n",
    "hmap[cell_u] = hmap[cell_v] + 2  # violates triangle inequality on edge u->v\n",
    "\n",
    "def h_custom(n):\n",
    "    return hmap.get(n, base_map.get(n, 0))\n",
    "\n",
    "# Check the inequality on the chosen edge\n",
    "print(\"Check violation at u->v:\", cell_u, \"->\", cell_v)\n",
    "print(\"h(u) =\", h_custom(cell_u), \"; 1 + h(v) =\", 1 + h_custom(cell_v), \"; Violates?\", h_custom(cell_u) > 1 + h_custom(cell_v))\n",
    "\n",
    "path_c, cost_c = search_astar(grid_map, h_custom)\n",
    "opt_cost = ucs_cost(grid_map)\n",
    "print(\"Custom inconsistent heuristic\")\n",
    "print(\"Path:\", path_c)\n",
    "print(\"Cost:\", cost_c)\n",
    "print(\"Optimal Cost:\", opt_cost, \"| Optimal?\", cost_c == opt_cost)\n",
    "show_maze(grid_map, path_c, title=\"Heuristic with Consistency Violation\")\n"
   ]
  },
  {
   "cell_type": "code",
   "execution_count": 5,
   "id": "90810cbd",
   "metadata": {},
   "outputs": [
    {
     "name": "stdout",
     "output_type": "stream",
     "text": [
      "Admissible (Manhattan)? True violations: []\n",
      "Admissible (1.5×Manhattan)? False violations (first 3): [((0, 0), 13.5, 9), ((0, 1), 12.0, 8), ((0, 2), 10.5, 7)]\n",
      "Admissible (custom inconsistent)? False violations (first 3): [((2, 2), 6, 5)]\n"
     ]
    }
   ],
   "source": [
    "# Admissibility checks for each heuristic on this map\n",
    "g_pos = locate_char(grid_map, 'B')\n",
    "\n",
    "def check_admissible(grid, h_func):\n",
    "    \n",
    "    from collections import deque\n",
    "    R, C = len(grid), len(grid[0])\n",
    "    INF = 10**9\n",
    "    dist = [[INF]*C for _ in range(R)]\n",
    "    gr, gc = g_pos\n",
    "    dq = deque([(gr, gc)])\n",
    "    dist[gr][gc] = 0\n",
    "    while dq:\n",
    "        r, c = dq.popleft()\n",
    "        for nr, nc in get_neighbors(grid, r, c):\n",
    "            if dist[nr][nc] > dist[r][c] + 1:\n",
    "                dist[nr][nc] = dist[r][c] + 1\n",
    "                dq.append((nr, nc))\n",
    "    ok = True\n",
    "    violations = []\n",
    "    for r in range(R):\n",
    "        for c in range(C):\n",
    "            if grid[r][c] != 1:\n",
    "                h = h_func((r,c))\n",
    "                true_cost = dist[r][c]\n",
    "                if true_cost == INF:  \n",
    "                    continue\n",
    "                if h > true_cost + 1e-9:\n",
    "                    ok = False\n",
    "                    violations.append(((r,c), h, true_cost))\n",
    "    return ok, violations\n",
    "\n",
    "adm_a, viol_a = check_admissible(grid_map, h0)\n",
    "adm_b, viol_b = check_admissible(grid_map, h1)\n",
    "adm_c, viol_c = check_admissible(grid_map, h_custom)\n",
    "\n",
    "print(\"Admissible (Manhattan)?\", adm_a, \"violations:\", viol_a[:3])\n",
    "print(\"Admissible (1.5×Manhattan)?\", adm_b, \"violations (first 3):\", viol_b[:3])\n",
    "print(\"Admissible (custom inconsistent)?\", adm_c, \"violations (first 3):\", viol_c[:3])\n"
   ]
  }
 ],
 "metadata": {
  "kernelspec": {
   "display_name": "Python 3",
   "language": "python",
   "name": "python3"
  },
  "language_info": {
   "codemirror_mode": {
    "name": "ipython",
    "version": 3
   },
   "file_extension": ".py",
   "mimetype": "text/x-python",
   "name": "python",
   "nbconvert_exporter": "python",
   "pygments_lexer": "ipython3",
   "version": "3.13.0"
  }
 },
 "nbformat": 4,
 "nbformat_minor": 5
}
